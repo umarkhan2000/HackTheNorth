{
 "cells": [
  {
   "cell_type": "code",
   "execution_count": 1,
   "metadata": {},
   "outputs": [],
   "source": [
    "import numpy as np\n",
    "import pandas as pd \n",
    "import tensorflow as tf\n",
    "import os\n",
    "import warnings\n",
    "warnings.filterwarnings('ignore')\n",
    "from sklearn.model_selection import train_test_split\n",
    "from keras.utils.np_utils import to_categorical\n",
    "from tensorflow import keras\n",
    "from tensorflow.keras.preprocessing.image import ImageDataGenerator\n",
    "from keras.preprocessing import image\n",
    "from tensorflow.keras.optimizers import RMSprop\n",
    "from os import listdir"
   ]
  },
  {
   "cell_type": "code",
   "execution_count": 2,
   "metadata": {},
   "outputs": [],
   "source": [
    "# O is for Organic Foods \n",
    "# R is for Recyclable Foods\n",
    "\n",
    "# Connect to base directory of Project Data\n",
    "base_dir = 'C:/Users/umara/Desktop/HTN/Covid'\n",
    "\n",
    "# Create a directory for our Training and Validation Images Data\n",
    "train_dir = os.path.join(base_dir, 'train')\n",
    "validation_dir = os.path.join(base_dir, 'test')\n",
    "\n",
    "# Directory with our training pictures\n",
    "train_covid_dir = os.path.join(train_dir, 'Covid')\n",
    "train_normal_dir = os.path.join(train_dir, 'Normal')\n",
    "train_pneumonia_dir = os.path.join(train_dir, 'Viral Pneumonia')\n",
    "\n",
    "# Directory with our validation pictures\n",
    "validation_covid_dir = os.path.join(validation_dir, 'Covid')\n",
    "validation_normal_dir = os.path.join(validation_dir, 'Normal')\n",
    "validation_pneumonia_dir = os.path.join(validation_dir, 'Viral Pneumonia')"
   ]
  },
  {
   "cell_type": "code",
   "execution_count": 18,
   "metadata": {},
   "outputs": [],
   "source": [
    "model = tf.keras.models.Sequential([\n",
    "    # First Layer\n",
    "    tf.keras.layers.Conv2D(16, (3,3), activation = 'relu', input_shape = (150, 150, 3)),\n",
    "    tf.keras.layers.MaxPool2D(2, 2),\n",
    "    \n",
    "    # Second layer\n",
    "    tf.keras.layers.Conv2D(32, (3,3), activation = 'relu'),\n",
    "    tf.keras.layers.MaxPool2D(2, 2),\n",
    "    \n",
    "    # Third Layer \n",
    "    tf.keras.layers.Conv2D(64, (3,3), activation = 'relu'),\n",
    "    tf.keras.layers.MaxPool2D(2, 2),\n",
    "\n",
    "    # Final Layer\n",
    "    tf.keras.layers.Flatten(),\n",
    "    tf.keras.layers.Dense(512, activation = 'relu'),\n",
    "    tf.keras.layers.Dense(3, activation = 'softmax')\n",
    "    \n",
    "])"
   ]
  },
  {
   "cell_type": "code",
   "execution_count": 19,
   "metadata": {},
   "outputs": [
    {
     "name": "stdout",
     "output_type": "stream",
     "text": [
      "Model: \"sequential_2\"\n",
      "_________________________________________________________________\n",
      "Layer (type)                 Output Shape              Param #   \n",
      "=================================================================\n",
      "conv2d_6 (Conv2D)            (None, 148, 148, 16)      448       \n",
      "_________________________________________________________________\n",
      "max_pooling2d_6 (MaxPooling2 (None, 74, 74, 16)        0         \n",
      "_________________________________________________________________\n",
      "conv2d_7 (Conv2D)            (None, 72, 72, 32)        4640      \n",
      "_________________________________________________________________\n",
      "max_pooling2d_7 (MaxPooling2 (None, 36, 36, 32)        0         \n",
      "_________________________________________________________________\n",
      "conv2d_8 (Conv2D)            (None, 34, 34, 64)        18496     \n",
      "_________________________________________________________________\n",
      "max_pooling2d_8 (MaxPooling2 (None, 17, 17, 64)        0         \n",
      "_________________________________________________________________\n",
      "flatten_2 (Flatten)          (None, 18496)             0         \n",
      "_________________________________________________________________\n",
      "dense_4 (Dense)              (None, 512)               9470464   \n",
      "_________________________________________________________________\n",
      "dense_5 (Dense)              (None, 3)                 1539      \n",
      "=================================================================\n",
      "Total params: 9,495,587\n",
      "Trainable params: 9,495,587\n",
      "Non-trainable params: 0\n",
      "_________________________________________________________________\n"
     ]
    }
   ],
   "source": [
    "model.summary()"
   ]
  },
  {
   "cell_type": "code",
   "execution_count": 20,
   "metadata": {},
   "outputs": [
    {
     "name": "stdout",
     "output_type": "stream",
     "text": [
      "Found 251 images belonging to 3 classes.\n",
      "Found 66 images belonging to 3 classes.\n"
     ]
    }
   ],
   "source": [
    "model.compile(optimizer='adam', loss= 'categorical_crossentropy', metrics=['accuracy'])\n",
    "\n",
    "# All images will be rescaled by 1./255.\n",
    "train_datagen = ImageDataGenerator( rescale = 1.0/255. )\n",
    "test_datagen  = ImageDataGenerator( rescale = 1.0/255. )\n",
    "\n",
    "# --------------------\n",
    "# Flow training images in batches of 20 using train_datagen generator\n",
    "# --------------------\n",
    "train_generator = train_datagen.flow_from_directory(train_dir,\n",
    "                                                    batch_size=20,\n",
    "                                                    class_mode='categorical',\n",
    "                                                    target_size=(150, 150))     \n",
    "# --------------------\n",
    "# Flow validation images in batches of 20 using test_datagen generator\n",
    "# --------------------\n",
    "validation_generator =  test_datagen.flow_from_directory(validation_dir,\n",
    "                                                         batch_size=20,\n",
    "                                                         class_mode  = 'categorical',\n",
    "                                                         target_size = (150, 150))"
   ]
  },
  {
   "cell_type": "code",
   "execution_count": 21,
   "metadata": {},
   "outputs": [
    {
     "name": "stdout",
     "output_type": "stream",
     "text": [
      "['Covid', 'Normal', 'Viral Pneumonia']\n"
     ]
    }
   ],
   "source": [
    "class_names = list(train_generator.class_indices.keys())\n",
    "print(class_names)"
   ]
  },
  {
   "cell_type": "code",
   "execution_count": 22,
   "metadata": {},
   "outputs": [
    {
     "name": "stdout",
     "output_type": "stream",
     "text": [
      "Epoch 1/15\n",
      "12/12 - 6s - loss: 1.2302 - accuracy: 0.5931 - val_loss: 0.8354 - val_accuracy: 0.8167\n",
      "Epoch 2/15\n",
      "12/12 - 5s - loss: 0.5051 - accuracy: 0.8701 - val_loss: 0.4893 - val_accuracy: 0.7333\n",
      "Epoch 3/15\n",
      "12/12 - 5s - loss: 0.2110 - accuracy: 0.9091 - val_loss: 0.3181 - val_accuracy: 0.8500\n",
      "Epoch 4/15\n",
      "12/12 - 5s - loss: 0.1810 - accuracy: 0.9437 - val_loss: 0.3515 - val_accuracy: 0.8500\n",
      "Epoch 5/15\n",
      "12/12 - 6s - loss: 0.1899 - accuracy: 0.9221 - val_loss: 0.3070 - val_accuracy: 0.8500\n",
      "Epoch 6/15\n",
      "12/12 - 6s - loss: 0.1224 - accuracy: 0.9524 - val_loss: 0.3183 - val_accuracy: 0.8500\n",
      "Epoch 7/15\n",
      "12/12 - 6s - loss: 0.0908 - accuracy: 0.9697 - val_loss: 0.2057 - val_accuracy: 0.8833\n",
      "Epoch 8/15\n",
      "12/12 - 6s - loss: 0.0719 - accuracy: 0.9740 - val_loss: 0.5172 - val_accuracy: 0.8500\n",
      "Epoch 9/15\n",
      "12/12 - 5s - loss: 0.0349 - accuracy: 0.9827 - val_loss: 0.3009 - val_accuracy: 0.9167\n",
      "Epoch 10/15\n",
      "12/12 - 6s - loss: 0.0320 - accuracy: 0.9870 - val_loss: 0.3212 - val_accuracy: 0.9167\n",
      "Epoch 11/15\n",
      "12/12 - 5s - loss: 0.0431 - accuracy: 0.9870 - val_loss: 0.3305 - val_accuracy: 0.9333\n",
      "Epoch 12/15\n",
      "12/12 - 5s - loss: 0.0297 - accuracy: 0.9913 - val_loss: 0.3648 - val_accuracy: 0.8833\n",
      "Epoch 13/15\n",
      "12/12 - 5s - loss: 0.0061 - accuracy: 1.0000 - val_loss: 0.3591 - val_accuracy: 0.8833\n",
      "Epoch 14/15\n",
      "12/12 - 5s - loss: 0.0039 - accuracy: 1.0000 - val_loss: 0.4022 - val_accuracy: 0.9000\n",
      "Epoch 15/15\n",
      "12/12 - 5s - loss: 0.0029 - accuracy: 1.0000 - val_loss: 0.3058 - val_accuracy: 0.9000\n"
     ]
    }
   ],
   "source": [
    "history = model.fit(train_generator,\n",
    "                              validation_data=validation_generator,\n",
    "                              steps_per_epoch=12,\n",
    "                              epochs=15,\n",
    "                              validation_steps = 3,\n",
    "                              verbose=2)"
   ]
  },
  {
   "cell_type": "code",
   "execution_count": 16,
   "metadata": {},
   "outputs": [],
   "source": [
    "import pathlib\n",
    "from pathlib import Path"
   ]
  },
  {
   "cell_type": "code",
   "execution_count": 26,
   "metadata": {},
   "outputs": [],
   "source": [
    "model.save('model.h5')"
   ]
  },
  {
   "cell_type": "code",
   "execution_count": 27,
   "metadata": {},
   "outputs": [
    {
     "name": "stdout",
     "output_type": "stream",
     "text": [
      "This image most likely belongs to Viral Pneumonia with a 57.61 percent confidence.\n"
     ]
    }
   ],
   "source": [
    "\n",
    "file_name = 'C:/Users/umara/Desktop/HTN/Covid/test/Viral Pneumonia/0101.jpeg'\n",
    "\n",
    "img = keras.preprocessing.image.load_img(\n",
    "    file_name, target_size=(150, 150)\n",
    ")\n",
    "img_array = keras.preprocessing.image.img_to_array(img)\n",
    "img_array = tf.expand_dims(img_array, 0) # Create a batch\n",
    "\n",
    "predictions = model.predict(img_array)\n",
    "score = tf.nn.softmax(predictions[0])\n",
    "\n",
    "print(\n",
    "    \"This image most likely belongs to {} with a {:.2f} percent confidence.\"\n",
    "    .format(class_names[np.argmax(score)], 100 * np.max(score))\n",
    ")"
   ]
  },
  {
   "cell_type": "code",
   "execution_count": null,
   "metadata": {},
   "outputs": [],
   "source": []
  },
  {
   "cell_type": "code",
   "execution_count": null,
   "metadata": {},
   "outputs": [],
   "source": []
  }
 ],
 "metadata": {
  "kernelspec": {
   "display_name": "Python 3",
   "language": "python",
   "name": "python3"
  },
  "language_info": {
   "codemirror_mode": {
    "name": "ipython",
    "version": 3
   },
   "file_extension": ".py",
   "mimetype": "text/x-python",
   "name": "python",
   "nbconvert_exporter": "python",
   "pygments_lexer": "ipython3",
   "version": "3.7.8"
  }
 },
 "nbformat": 4,
 "nbformat_minor": 4
}
